{
 "cells": [
  {
   "cell_type": "code",
   "execution_count": 11,
   "metadata": {},
   "outputs": [
    {
     "name": "stdout",
     "output_type": "stream",
     "text": [
      "test data loaded successfully\n",
      "Model loaded successfully.\n"
     ]
    }
   ],
   "source": [
    "import torch\n",
    "import pandas as pd\n",
    "import torch.nn as nn\n",
    "\n",
    "test_df = pd.read_csv('./data/test_df.csv', index_col=0)\n",
    "means = pd.read_csv('./data/means.csv', index_col = 0)\n",
    "stds = pd.read_csv('./data/stds.csv', index_col = 0)\n",
    "\n",
    "y_cols = [\"Målt konsistens [mm]\", \"Målt densitet [kg/m3]\", \"Målt luftinnhold [%]\", \"Sylinder 28 døgn\"]\n",
    "\n",
    "X_test_tensor = torch.tensor(test_df.drop(columns=y_cols).values, dtype=torch.float32)\n",
    "y_test_tensor = torch.tensor(test_df[y_cols].values, dtype=torch.float32)\n",
    "\n",
    "print(\"test data loaded successfully\")\n",
    "\n",
    "\n",
    "class SimpleNN(nn.Module):\n",
    "    def __init__(self, input_dim, output_dim):\n",
    "        super(SimpleNN, self).__init__()\n",
    "        self.fc1 = nn.Linear(input_dim, 64)\n",
    "        self.fc2 = nn.Linear(64, 16)\n",
    "        self.fc3 = nn.Linear(16, output_dim)\n",
    "    \n",
    "    def forward(self, x):\n",
    "        x = torch.relu(self.fc1(x))\n",
    "        x = torch.relu(self.fc2(x))\n",
    "        x = self.fc3(x)\n",
    "        x = torch.exp(x)\n",
    "        return x\n",
    "\n",
    "# Define the path to the saved model\n",
    "model_path = './models/simple_nn_model.pth'\n",
    "\n",
    "# Load the model\n",
    "model = SimpleNN(X_test_tensor.shape[1], y_test_tensor.shape[1])\n",
    "model.load_state_dict(torch.load(model_path))\n",
    "model.eval() \n",
    "\n",
    "print(\"Model loaded successfully.\")\n",
    "\n",
    "\n",
    "y_stds_tensor = torch.tensor(stds.loc[y_cols].to_numpy(), dtype=torch.float32)\n",
    "y_means_tensor = torch.tensor(means.loc[y_cols].to_numpy(), dtype=torch.float32)\n",
    "X_stds_tensor = torch.tensor(stds.drop(index=y_cols).to_numpy(), dtype=torch.float32)\n",
    "X_means_tensor = torch.tensor(means.drop(index=y_cols).to_numpy(), dtype=torch.float32)\n",
    "\n",
    "def denormalizeInputs(inputs):\n",
    "    return inputs.view(-1, 1) * X_stds_tensor + X_means_tensor\n",
    "\n",
    "def denormalizeOutputs(outputs):\n",
    "    return outputs.view(-1, 1) * y_stds_tensor + y_means_tensor\n",
    "\n",
    "    "
   ]
  },
  {
   "cell_type": "code",
   "execution_count": 12,
   "metadata": {},
   "outputs": [],
   "source": [
    "material_costs_df = pd.read_csv(\"./data/material_costs_estimates.csv\", index_col=0).drop(columns=[\"Category\"])\n",
    "material_costs_tensor = torch.tensor(material_costs_df.to_numpy(), dtype=torch.float32)\n",
    "\n",
    "def materials_cost(inputs):\n",
    "    return (inputs * material_costs_tensor).sum()\n"
   ]
  },
  {
   "cell_type": "code",
   "execution_count": null,
   "metadata": {},
   "outputs": [],
   "source": [
    "def objective_function(inputs, doPrint=False, min_strength = 60):\n",
    "    \n",
    "    outputs = denormalizeOutputs(model(inputs))\n",
    "    strength = outputs[3, -1]\n",
    "    cost = materials_cost(denormalizeInputs(inputs))\n",
    "\n",
    "    if (doPrint):\n",
    "        print(\"STRENGTH:\", strength.item(), \"COST:\", cost.item())\n",
    "\n",
    "    objective = torch.where(strength < min_strength, strength, -(cost ** 2) / 1.7e9                            )\n",
    "    return objective"
   ]
  },
  {
   "cell_type": "code",
   "execution_count": null,
   "metadata": {},
   "outputs": [
    {
     "name": "stdout",
     "output_type": "stream",
     "text": [
      "STRENGTH: 55.236175537109375 COST: 322037.75\n"
     ]
    },
    {
     "data": {
      "text/plain": [
       "tensor(55.2362, grad_fn=<WhereBackward0>)"
      ]
     },
     "execution_count": 19,
     "metadata": {},
     "output_type": "execute_result"
    }
   ],
   "source": [
    "# DEBUGGING\n",
    "\n",
    "# inputs = torch.zeros(1, X_test_tensor.shape[1], requires_grad=True)\n",
    "# objective_function(inputs, doPrint=True)"
   ]
  },
  {
   "cell_type": "code",
   "execution_count": null,
   "metadata": {},
   "outputs": [
    {
     "name": "stdout",
     "output_type": "stream",
     "text": [
      "STRENGTH: 60.15398025512695 COST: 25519.673828125\n",
      "STRENGTH: 60.00508117675781 COST: 32491.751953125\n",
      "STRENGTH: 60.0704460144043 COST: 30538.046875\n",
      "STRENGTH: 60.082374572753906 COST: 30916.794921875\n",
      "STRENGTH: 60.204071044921875 COST: 27246.9296875\n",
      "STRENGTH: 60.19423294067383 COST: 28803.703125\n",
      "STRENGTH: 60.44723129272461 COST: 31958.083984375\n",
      "STRENGTH: 60.07618713378906 COST: 27487.9609375\n",
      "STRENGTH: 60.35517120361328 COST: 28674.04296875\n",
      "STRENGTH: 60.23454666137695 COST: 30937.390625\n",
      "STRENGTH: 60.070350646972656 COST: 29628.279296875\n",
      "STRENGTH: 60.16218185424805 COST: 27697.609375\n",
      "STRENGTH: 60.20504379272461 COST: 32112.806640625\n",
      "STRENGTH: 60.31995391845703 COST: 26142.451171875\n",
      "STRENGTH: 60.036903381347656 COST: 32631.28125\n",
      "STRENGTH: 60.35343933105469 COST: 26150.537109375\n",
      "STRENGTH: 60.4276008605957 COST: 33203.47265625\n",
      "STRENGTH: 61.690406799316406 COST: 32421.0546875\n",
      "STRENGTH: 60.01220703125 COST: 29848.0703125\n",
      "STRENGTH: 60.525291442871094 COST: 30348.94140625\n"
     ]
    }
   ],
   "source": [
    "\n",
    "SAMPLES = 20\n",
    "ITERATIONS = 1500\n",
    "MIN_STRENGTH = 61\n",
    "\n",
    "for i in range(SAMPLES):\n",
    "\n",
    "    inputs = torch.normal(mean=0, std=1, size=(1, X_test_tensor.shape[1]), requires_grad=True)\n",
    "\n",
    "    best_inputs = inputs\n",
    "    lowest_cost = materials_cost(denormalizeInputs(inputs))\n",
    "\n",
    "\n",
    "    for j in range(ITERATIONS):\n",
    "\n",
    "        outputs = model(inputs)\n",
    "\n",
    "        # Compute gradients without backward()\n",
    "        doPrint = j == ITERATIONS -1\n",
    "        # doPrint = False\n",
    "        grads = torch.autograd.grad(objective_function(inputs, doPrint=doPrint, min_strength=MIN_STRENGTH), inputs, grad_outputs=torch.ones_like(objective_function(inputs)), retain_graph=True)[0]\n",
    "\n",
    "        inputs = torch.clamp(inputs + grads * 0.01, min=-(X_means_tensor / (X_stds_tensor - 1e-8)).view(1, -1))\n",
    "\n",
    "        # print(\"OUTPUT:\", denormalizeOutputs(model(inputs)))\n",
    "    \n",
    "    cost = materials_cost(denormalizeInputs(inputs))\n",
    "    if (cost < lowest_cost):\n",
    "        lowest_cost = cost\n",
    "        print(\"NEW BEST:\")\n",
    "        objective_function(inputs, doPrint=True, min_strength=MIN_STRENGTH)\n",
    "        \n",
    "    # print(denormalizeInputs(inputs))\n",
    "    # print(denormalizeOutputs(outputs))\n",
    "\n"
   ]
  }
 ],
 "metadata": {
  "kernelspec": {
   "display_name": "Python 3",
   "language": "python",
   "name": "python3"
  },
  "language_info": {
   "codemirror_mode": {
    "name": "ipython",
    "version": 3
   },
   "file_extension": ".py",
   "mimetype": "text/x-python",
   "name": "python",
   "nbconvert_exporter": "python",
   "pygments_lexer": "ipython3",
   "version": "3.12.1"
  }
 },
 "nbformat": 4,
 "nbformat_minor": 2
}
