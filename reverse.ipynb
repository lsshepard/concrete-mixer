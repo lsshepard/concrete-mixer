{
 "cells": [
  {
   "cell_type": "code",
   "execution_count": 1,
   "metadata": {},
   "outputs": [
    {
     "name": "stdout",
     "output_type": "stream",
     "text": [
      "test data loaded successfully\n",
      "Model loaded successfully.\n"
     ]
    }
   ],
   "source": [
    "import torch\n",
    "import pandas as pd\n",
    "import torch.nn as nn\n",
    "\n",
    "test_df = pd.read_csv('./data/test_df.csv', index_col=0)\n",
    "means = pd.read_csv('./data/means.csv', index_col = 0)\n",
    "stds = pd.read_csv('./data/stds.csv', index_col = 0)\n",
    "\n",
    "y_cols = [\"Målt konsistens [mm]\", \"Målt densitet [kg/m3]\", \"Målt luftinnhold [%]\", \"Sylinder 28 døgn\"]\n",
    "\n",
    "X_test_tensor = torch.tensor(test_df.drop(columns=y_cols).values, dtype=torch.float32)\n",
    "y_test_tensor = torch.tensor(test_df[y_cols].values, dtype=torch.float32)\n",
    "\n",
    "print(\"test data loaded successfully\")\n",
    "\n",
    "\n",
    "class SimpleNN(nn.Module):\n",
    "    def __init__(self, input_dim, output_dim):\n",
    "        super(SimpleNN, self).__init__()\n",
    "        self.fc1 = nn.Linear(input_dim, 64)\n",
    "        self.fc2 = nn.Linear(64, 16)\n",
    "        self.fc3 = nn.Linear(16, output_dim)\n",
    "    \n",
    "    def forward(self, x):\n",
    "        x = torch.relu(self.fc1(x))\n",
    "        x = torch.relu(self.fc2(x))\n",
    "        x = self.fc3(x)\n",
    "        return x\n",
    "\n",
    "# Define the path to the saved model\n",
    "model_path = './models/simple_nn_model.pth'\n",
    "\n",
    "# Load the model\n",
    "model = SimpleNN(X_test_tensor.shape[1], y_test_tensor.shape[1])\n",
    "model.load_state_dict(torch.load(model_path))\n",
    "model.eval() \n",
    "\n",
    "print(\"Model loaded successfully.\")\n",
    "\n",
    "\n",
    "y_stds_tensor = torch.tensor(stds.loc[y_cols].to_numpy(), dtype=torch.float32).view(-1, 1)\n",
    "y_means_tensor = torch.tensor(means.loc[y_cols].to_numpy(), dtype=torch.float32).view(-1, 1)\n",
    "X_stds_tensor = torch.tensor(stds.drop(index=y_cols).to_numpy(), dtype=torch.float32).view(-1, 1)\n",
    "X_means_tensor = torch.tensor(means.drop(index=y_cols).to_numpy(), dtype=torch.float32).view(-1, 1)\n",
    "\n",
    "def denormalizeInputs(inputs):\n",
    "    return inputs.view(-1, 1) * X_stds_tensor + X_means_tensor\n",
    "\n",
    "def denormalizeOutputs(outputs):\n",
    "    return torch.exp(outputs.view(-1, 1) * y_stds_tensor + y_means_tensor)\n",
    "\n",
    "    "
   ]
  },
  {
   "cell_type": "code",
   "execution_count": 2,
   "metadata": {},
   "outputs": [],
   "source": [
    "material_costs_df = pd.read_csv(\"./data/material_costs_estimates.csv\", index_col=0).drop(columns=[\"Category\"])\n",
    "material_costs_tensor = torch.tensor(material_costs_df.to_numpy(), dtype=torch.float32)\n",
    "\n",
    "def materials_cost(inputs):\n",
    "    return (inputs * material_costs_tensor).sum()\n"
   ]
  },
  {
   "cell_type": "code",
   "execution_count": 3,
   "metadata": {},
   "outputs": [],
   "source": [
    "def objective_function(inputs, doPrint=False, min_strength = 60):\n",
    "    \n",
    "    outputs = denormalizeOutputs(model(inputs))\n",
    "    strength = outputs[3, -1]\n",
    "    cost = materials_cost(denormalizeInputs(inputs))\n",
    "\n",
    "    if (doPrint):\n",
    "        print(\"STRENGTH:\", strength.item(), \"COST:\", cost.item())\n",
    "\n",
    "    objective = torch.where(strength < min_strength, strength, -(cost ** 2) / 1.7e9                            )\n",
    "    return objective"
   ]
  },
  {
   "cell_type": "code",
   "execution_count": null,
   "metadata": {},
   "outputs": [
    {
     "name": "stdout",
     "output_type": "stream",
     "text": [
      "STRENGTH: 55.236175537109375 COST: 322037.75\n"
     ]
    },
    {
     "data": {
      "text/plain": [
       "tensor(55.2362, grad_fn=<WhereBackward0>)"
      ]
     },
     "execution_count": 19,
     "metadata": {},
     "output_type": "execute_result"
    }
   ],
   "source": [
    "# DEBUGGING\n",
    "\n",
    "# inputs = torch.zeros(1, X_test_tensor.shape[1], requires_grad=True)\n",
    "# objective_function(inputs, doPrint=True)"
   ]
  },
  {
   "cell_type": "code",
   "execution_count": 5,
   "metadata": {},
   "outputs": [
    {
     "name": "stdout",
     "output_type": "stream",
     "text": [
      "STRENGTH: 41.03995895385742 COST: 20426.001953125\n",
      "NEW BEST:\n",
      "STRENGTH: 41.0305290222168 COST: 20414.078125\n",
      "STRENGTH: 41.92363739013672 COST: 25256.78515625\n",
      "NEW BEST:\n",
      "STRENGTH: 41.778480529785156 COST: 23660.072265625\n",
      "STRENGTH: 41.21866226196289 COST: 21029.21484375\n",
      "NEW BEST:\n",
      "STRENGTH: 41.20625305175781 COST: 21013.267578125\n",
      "STRENGTH: 41.091064453125 COST: 18075.20703125\n",
      "NEW BEST:\n",
      "STRENGTH: 41.08549499511719 COST: 18065.3984375\n",
      "STRENGTH: 41.328590393066406 COST: 21075.72265625\n",
      "NEW BEST:\n",
      "STRENGTH: 41.30047607421875 COST: 20977.9921875\n",
      "STRENGTH: 41.25511932373047 COST: 21886.203125\n",
      "NEW BEST:\n",
      "STRENGTH: 41.24259948730469 COST: 21869.205078125\n",
      "STRENGTH: 41.06464385986328 COST: 15052.60546875\n",
      "NEW BEST:\n",
      "STRENGTH: 41.05857467651367 COST: 15045.68359375\n",
      "STRENGTH: 41.56645584106445 COST: 19957.92578125\n",
      "NEW BEST:\n",
      "STRENGTH: 41.528961181640625 COST: 19819.994140625\n",
      "STRENGTH: 41.29393768310547 COST: 20217.103515625\n",
      "NEW BEST:\n",
      "STRENGTH: 41.28385925292969 COST: 20201.8125\n",
      "STRENGTH: 41.86660385131836 COST: 18997.287109375\n",
      "NEW BEST:\n",
      "STRENGTH: 41.817893981933594 COST: 18787.796875\n",
      "STRENGTH: 41.648475646972656 COST: 20267.74609375\n",
      "NEW BEST:\n",
      "STRENGTH: 41.59926223754883 COST: 20043.03125\n",
      "STRENGTH: 41.46102523803711 COST: 16577.732421875\n",
      "NEW BEST:\n",
      "STRENGTH: 41.450836181640625 COST: 16566.86328125\n",
      "STRENGTH: 41.42242431640625 COST: 20580.560546875\n",
      "NEW BEST:\n",
      "STRENGTH: 41.3778076171875 COST: 20367.154296875\n",
      "STRENGTH: 40.99477767944336 COST: 18142.416015625\n",
      "NEW BEST:\n",
      "STRENGTH: 41.7164306640625 COST: 23579.71484375\n",
      "STRENGTH: 41.089195251464844 COST: 19954.244140625\n",
      "NEW BEST:\n",
      "STRENGTH: 41.080909729003906 COST: 19936.0234375\n",
      "STRENGTH: 41.336761474609375 COST: 19758.62109375\n",
      "NEW BEST:\n",
      "STRENGTH: 41.30084991455078 COST: 19590.65625\n",
      "STRENGTH: 41.387210845947266 COST: 19862.337890625\n",
      "NEW BEST:\n",
      "STRENGTH: 41.375816345214844 COST: 19848.3203125\n",
      "STRENGTH: 41.58141326904297 COST: 21871.603515625\n",
      "NEW BEST:\n",
      "STRENGTH: 41.5526237487793 COST: 21799.677734375\n",
      "STRENGTH: 41.14247131347656 COST: 20636.314453125\n",
      "NEW BEST:\n",
      "STRENGTH: 41.13433074951172 COST: 20620.189453125\n",
      "STRENGTH: 41.47380828857422 COST: 21719.95703125\n",
      "NEW BEST:\n",
      "STRENGTH: 41.45878219604492 COST: 21702.609375\n"
     ]
    }
   ],
   "source": [
    "\n",
    "SAMPLES = 20\n",
    "ITERATIONS = 1500\n",
    "MIN_STRENGTH = 41\n",
    "\n",
    "for i in range(SAMPLES):\n",
    "\n",
    "    inputs = torch.normal(mean=0, std=1, size=(1, X_test_tensor.shape[1]), requires_grad=True)\n",
    "\n",
    "    best_inputs = inputs\n",
    "    lowest_cost = materials_cost(denormalizeInputs(inputs))\n",
    "\n",
    "\n",
    "    for j in range(ITERATIONS):\n",
    "\n",
    "        outputs = model(inputs)\n",
    "\n",
    "        # Compute gradients without backward()\n",
    "        doPrint = j == ITERATIONS -1\n",
    "        # doPrint = False\n",
    "        grads = torch.autograd.grad(objective_function(inputs, doPrint=doPrint, min_strength=MIN_STRENGTH), inputs, grad_outputs=torch.ones_like(objective_function(inputs)), retain_graph=True)[0]\n",
    "\n",
    "        inputs = torch.clamp(inputs + grads * 0.01, min=-(X_means_tensor / (X_stds_tensor - 1e-8)).view(1, -1))\n",
    "\n",
    "        # print(\"OUTPUT:\", denormalizeOutputs(model(inputs)))\n",
    "    \n",
    "    cost = materials_cost(denormalizeInputs(inputs))\n",
    "    if (cost < lowest_cost):\n",
    "        lowest_cost = cost\n",
    "        print(\"NEW BEST:\")\n",
    "        objective_function(inputs, doPrint=True, min_strength=MIN_STRENGTH)\n",
    "        \n",
    "    # print(denormalizeInputs(inputs))\n",
    "    # print(denormalizeOutputs(outputs))\n",
    "\n"
   ]
  }
 ],
 "metadata": {
  "kernelspec": {
   "display_name": "Python 3",
   "language": "python",
   "name": "python3"
  },
  "language_info": {
   "codemirror_mode": {
    "name": "ipython",
    "version": 3
   },
   "file_extension": ".py",
   "mimetype": "text/x-python",
   "name": "python",
   "nbconvert_exporter": "python",
   "pygments_lexer": "ipython3",
   "version": "3.12.1"
  }
 },
 "nbformat": 4,
 "nbformat_minor": 2
}
